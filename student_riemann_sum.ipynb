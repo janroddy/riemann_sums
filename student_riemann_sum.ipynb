{
 "cells": [
  {
   "cell_type": "markdown",
   "metadata": {},
   "source": [
    "\n",
    "<div style=\"background-color: #BCDBF5 ; padding: 10px;\">\n",
    "    <h1 style= padding:0px>Riemann Sums</h1>\n",
    "In these problem we are going to use the Python programming language to calculate Riemann Sums. \n",
    " \n",
    "Right-Hand Endpoint Riemann Sum Formula Reminders: \n",
    "\n",
    "$$\\Delta x = \\frac{b-a}{n}$$\n",
    "   \n",
    "$$R_n = \\sum_{i=1}^{n} f(x_{i})\\Delta x$$\n",
    "\n",
    "<h2>Problem 1: Right-Hand Endpoints</h2>  \n",
    "    <p>\n",
    "        Use a Riemann sum and right endpoints to estimate the area under the curve $f(x) = x^2$, for the interval $0 \\leq x \\leq 5$, with 10 subintervals (n=10).  \n",
    "    </p>\n",
    "    \n",
    "  \n",
    "    \n",
    "<h2>Instructions:</h2>    \n",
    "<ol>\n",
    " \n",
    "<li>On lines 13-15 set the variables for the lower (a) and upper (b) bounds and number of intervals(n) that will allow us to calculate dx for problem 1. </li>\n",
    "<li>Using the variables a, b, and n calculate dx on line 19. Don't forget order of operations!</li>\n",
    "<li>Run the cell.  What is dx?</li>\n",
    "<li>On line 23, we have a function call to return evenly spaced numbers over a specified interval.  This will give us our right end points. Fill in the parameters for our function call np.linspace(dx, b, n); dx is the start, b is the stop, n is the number of intervals. Why do we start with dx?</li>\n",
    "<li>Run the cell again and notice the output of the endpoints list.</li>\n",
    "<li>Finally, on line 30, inside the parenthesis of f(), use the variable x_right -> f(x_right). This will calculate the sum our endpoints multiplied by dx, which will give us our Right-hand Riemann Sum.</li>\n",
    "<li>Run the cell and record the value of the sum.</li>\n",
    "</ol>\n",
    "   \n",
    "\n",
    "\n",
    "</div>\n",
    "\n"
   ]
  },
  {
   "cell_type": "code",
   "execution_count": 7,
   "metadata": {},
   "outputs": [
    {
     "ename": "SyntaxError",
     "evalue": "invalid syntax (<ipython-input-7-a30e846b9af2>, line 13)",
     "output_type": "error",
     "traceback": [
      "\u001b[0;36m  File \u001b[0;32m\"<ipython-input-7-a30e846b9af2>\"\u001b[0;36m, line \u001b[0;32m13\u001b[0m\n\u001b[0;31m    a =\u001b[0m\n\u001b[0m        ^\u001b[0m\n\u001b[0;31mSyntaxError\u001b[0m\u001b[0;31m:\u001b[0m invalid syntax\n"
     ]
    }
   ],
   "source": [
    "import numpy as np\n",
    "import matplotlib.pyplot as plt\n",
    "\n",
    "'''\n",
    "f is the function f(x) \n",
    "a is the lower bound\n",
    "b is the upper bound\n",
    "n is the number of subintervals \n",
    "dx is the change in x \n",
    "'''\n",
    "\n",
    "f = lambda x :  x**2 #f(x)=x^2\n",
    "a = \n",
    "b =  \n",
    "n =  \n",
    "\n",
    "print(\"Estimation with\",n,\"subintervals.\")\n",
    "\n",
    "dx = \n",
    "print (\"dx is {}\".format(dx))\n",
    "\n",
    "#the linspace function returns equal intervals betweent start stop and number \n",
    "x_right = np.linspace() \n",
    "\n",
    "print(\"The right hand endpoints are: \", end=\"\")\n",
    "for endpoint in x_right:\n",
    "    print (endpoint, end=\" \")\n",
    "print()    \n",
    "\n",
    "right_riemann_sum = np.sum(f() * dx) \n",
    "print(\"Right Riemann Sum:\",right_riemann_sum)"
   ]
  },
  {
   "cell_type": "markdown",
   "metadata": {},
   "source": [
    "<div style=\"background-color: #BCDBF5 ; padding: 10px;\">\n",
    "<h2>Instructions:</h2>    \n",
    "<ol>\n",
    " \n",
    "<li>Run the cell to plot the function and the Riemann Sum to approximate the area under the curve.</li>\n",
    "<li>Is the approximation using right-hand endpoints and over or under estimate for the area under the curve?</li>\n",
    "<li>Go back to the previous exercise and change \"n = 10\" to \"n = 20.\"  Rerun both of the code cells. How does the approximation change with more rectangles? How does it change with less rectangles? </li>\n",
    "\n",
    "    \n",
    "\n",
    "</ol>\n",
    "</div>"
   ]
  },
  {
   "cell_type": "code",
   "execution_count": 12,
   "metadata": {},
   "outputs": [
    {
     "data": {
      "image/png": "[encoded data removed]",
      "text/plain": [
       "<Figure size 432x288 with 1 Axes>"
      ]
     },
     "metadata": {
      "needs_background": "light"
     },
     "output_type": "display_data"
    }
   ],
   "source": [
    "import numpy as np\n",
    "import matplotlib.pyplot as plt\n",
    "\n",
    "x = np.linspace(a,b,n+1)\n",
    "y = f(x)\n",
    "\n",
    "X = np.linspace(a,b,n*n+1)\n",
    "Y = f(X)\n",
    "\n",
    "\n",
    "plt.plot(X,Y,'blue') #plots function f(x) = x^2\n",
    "x_right = x[1:] # Right endpoints \n",
    "y_right = y[1:]\n",
    "plt.plot(x_right,y_right,'b.',markersize=10) #plots endpoints \n",
    "plt.bar(x_right,y_right,width=-(b-a)/n,alpha=0.2,align='edge',edgecolor='blue') #plots rectangles\n",
    "plt.title('Right Riemann Sum for n = {}'.format(n))\n",
    "\n",
    "plt.show()"
   ]
  },
  {
   "cell_type": "markdown",
   "metadata": {},
   "source": [
    "\n",
    "<div style=\"background-color: #BCDBF5 ; padding: 10px;\">\n",
    "    \n",
    "<h2>Exercise 2: Left-Hand Endpoints</h2>\n",
    "\n",
    "Reminder: \n",
    "\n",
    "\n",
    "$$R_n = \\sum_{i=1}^{n} f(x_{i-1})\\Delta x $$\n",
    "\n",
    "\n",
    "\n",
    "<h2>Exercise 2: Left-Hand Endpoints</h2>  \n",
    "    <p>\n",
    "      This time use a Riemann sum and left-hand endpoints to estimate the area under the curve $f(x) = x^2$, for the interval $0 \\leq x \\leq 5$, with 10 subintervals (n=10).  \n",
    "    </p>\n",
    "    \n",
    "  \n",
    "\n",
    "<h2>Instructions:</h2>    \n",
    "<ol>\n",
    " \n",
    "<li>Here is the same code from the previous exercise. You will need to change the endpoints to left.  Based on the problem, what do you expect the first left-hand endpoint to be? What about the last left-hand endpoint?\n",
    "</li>\n",
    "<li>On line 22, add the parameters to the linspace function for start, stop and number of intervals.</li>\n",
    "<li>What is the Left Riemann Sum?</li>     \n",
    "</ol>\n",
    "\n",
    "\n",
    "</div>\n",
    "\n"
   ]
  },
  {
   "cell_type": "code",
   "execution_count": 13,
   "metadata": {},
   "outputs": [
    {
     "name": "stdout",
     "output_type": "stream",
     "text": [
      "Estimation with 10 subintervals.\n",
      "dx is 0.5\n"
     ]
    },
    {
     "ename": "TypeError",
     "evalue": "_linspace_dispatcher() missing 2 required positional arguments: 'start' and 'stop'",
     "output_type": "error",
     "traceback": [
      "\u001b[0;31m---------------------------------------------------------------------------\u001b[0m",
      "\u001b[0;31mTypeError\u001b[0m                                 Traceback (most recent call last)",
      "\u001b[0;32m<ipython-input-13-87d2219062c8>\u001b[0m in \u001b[0;36m<module>\u001b[0;34m\u001b[0m\n\u001b[1;32m     20\u001b[0m \u001b[0mprint\u001b[0m \u001b[0;34m(\u001b[0m\u001b[0;34m\"dx is {}\"\u001b[0m\u001b[0;34m.\u001b[0m\u001b[0mformat\u001b[0m\u001b[0;34m(\u001b[0m\u001b[0mdx\u001b[0m\u001b[0;34m)\u001b[0m\u001b[0;34m)\u001b[0m\u001b[0;34m\u001b[0m\u001b[0;34m\u001b[0m\u001b[0m\n\u001b[1;32m     21\u001b[0m \u001b[0;34m\u001b[0m\u001b[0m\n\u001b[0;32m---> 22\u001b[0;31m \u001b[0mx_left\u001b[0m \u001b[0;34m=\u001b[0m \u001b[0mnp\u001b[0m\u001b[0;34m.\u001b[0m\u001b[0mlinspace\u001b[0m\u001b[0;34m(\u001b[0m\u001b[0;34m)\u001b[0m\u001b[0;34m\u001b[0m\u001b[0;34m\u001b[0m\u001b[0m\n\u001b[0m\u001b[1;32m     23\u001b[0m \u001b[0;34m\u001b[0m\u001b[0m\n\u001b[1;32m     24\u001b[0m \u001b[0mprint\u001b[0m\u001b[0;34m(\u001b[0m\u001b[0;34m\"The left hand endpoints are: \"\u001b[0m\u001b[0;34m,\u001b[0m \u001b[0mend\u001b[0m\u001b[0;34m=\u001b[0m\u001b[0;34m\"\"\u001b[0m\u001b[0;34m)\u001b[0m\u001b[0;34m\u001b[0m\u001b[0;34m\u001b[0m\u001b[0m\n",
      "\u001b[0;32m<__array_function__ internals>\u001b[0m in \u001b[0;36mlinspace\u001b[0;34m(*args, **kwargs)\u001b[0m\n",
      "\u001b[0;31mTypeError\u001b[0m: _linspace_dispatcher() missing 2 required positional arguments: 'start' and 'stop'"
     ]
    }
   ],
   "source": [
    "import numpy as np\n",
    "import matplotlib.pyplot as plt\n",
    "\n",
    "'''\n",
    "f is the function f(x) \n",
    "a is the lower bound\n",
    "b is the upper bound\n",
    "n is the number of subintervals \n",
    "dx is the change in x \n",
    "'''\n",
    "\n",
    "f = lambda x : x**2\n",
    "a = 0  \n",
    "b = 5 \n",
    "n = 10 \n",
    "\n",
    "print(\"Estimation with\",n,\"subintervals.\")\n",
    "\n",
    "dx = (b-a)/n \n",
    "print (\"dx is {}\".format(dx))\n",
    "\n",
    "x_left = np.linspace()\n",
    "\n",
    "print(\"The left hand endpoints are: \", end=\"\")\n",
    "for endpoint in x_left:\n",
    "    print (endpoint, end=\" \")\n",
    "print()    \n",
    "\n",
    "left_riemann_sum = np.sum(f(x_left) * dx)\n",
    "print(\"Left Riemann Sum:\",left_riemann_sum)"
   ]
  },
  {
   "cell_type": "markdown",
   "metadata": {},
   "source": [
    "<div style=\"background-color: #BCDBF5 ; padding: 10px;\">\n",
    "<h2>Instructions:</h2>    \n",
    "<ol>\n",
    " \n",
    "<li>Do you expect the left-hand Riemann sum to be an over or under approximation? Why?</li>\n",
    "<li>Run the cell to check .</li>\n",
    "<li>What is we change our function to $f(x) = \\frac{1}{1 + x^2}$? Let's try it!</li>\n",
    "<li> Let's try it! Find the  line of code in exercise 1 and 2 that says \"f = lambda x :  x**2 \" and change it to f = lambda x :  1/ (1 + x**2).  Run all the code cells again and note the sums and whether they are under or over approximations.  Why do you think that is?</li>\n",
    "    </div>"
   ]
  },
  {
   "cell_type": "code",
   "execution_count": 14,
   "metadata": {},
   "outputs": [
    {
     "data": {
      "image/png": "[encoded data removed]",
      "text/plain": [
       "<Figure size 432x288 with 1 Axes>"
      ]
     },
     "metadata": {
      "needs_background": "light"
     },
     "output_type": "display_data"
    }
   ],
   "source": [
    "import numpy as np\n",
    "import matplotlib.pyplot as plt\n",
    "\n",
    "x = np.linspace(a,b,n+1)\n",
    "y = f(x)\n",
    "\n",
    "X = np.linspace(a,b,n*n+1)\n",
    "Y = f(X)\n",
    "\n",
    "\n",
    "plt.plot(X,Y,'blue') #plots function f(x) = x^2\n",
    "x_left = x[:-1] # Left endpoints\n",
    "y_left = y[:-1]\n",
    "plt.plot(x_left,y_left,'b.',markersize=10)\n",
    "plt.bar(x_left,y_left,width=(b-a)/n,alpha=0.2,align='edge',edgecolor='b')\n",
    "plt.title('Left Riemann Sum, n = {}'.format(n))\n",
    "\n",
    "plt.show()"
   ]
  },
  {
   "cell_type": "code",
   "execution_count": null,
   "metadata": {},
   "outputs": [],
   "source": []
  }
 ],
 "metadata": {
  "kernelspec": {
   "display_name": "Python 3",
   "language": "python",
   "name": "python3"
  },
  "language_info": {
   "codemirror_mode": {
    "name": "ipython",
    "version": 3
   },
   "file_extension": ".py",
   "mimetype": "text/x-python",
   "name": "python",
   "nbconvert_exporter": "python",
   "pygments_lexer": "ipython3",
   "version": "3.7.5"
  }
 },
 "nbformat": 4,
 "nbformat_minor": 2
}
